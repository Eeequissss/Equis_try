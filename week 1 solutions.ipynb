{
 "cells": [
  {
   "cell_type": "markdown",
   "metadata": {},
   "source": [
    "# Week 1 Lecture and Lab\n",
    "\n",
    "This is a short Jupyter notebook to take you through some python concepts and relate these to Section 1.4 of (Ross, 2017). \n",
    "\n",
    "You will need to install Jupyter notebooks (as well as python3) on your machine. A guide to installation and working with these can be found [here](https://jupyter.readthedocs.io/en/latest/) (other online sources are also available). There are two types of cells markdown (for text) and code (for python). This is a markdown cell. Rules of markdown syntax can be found online. [Here is a particularly good guide](https://www.markdownguide.org/basic-syntax/).\n"
   ]
  },
  {
   "cell_type": "markdown",
   "metadata": {},
   "source": [
    "## Variables and Types\n",
    "Here we'll look a little a what variables are and their types. This is based on John Graunt's analysis of deaths in the population. "
   ]
  },
  {
   "cell_type": "code",
   "execution_count": 1,
   "metadata": {},
   "outputs": [
    {
     "data": {
      "text/plain": [
       "0.03409090909090909"
      ]
     },
     "execution_count": 1,
     "metadata": {},
     "output_type": "execute_result"
    }
   ],
   "source": [
    "# There were 3 deaths per 88 people,\n",
    "# calculate the fractional death_rate and assign it to a variable death_rate\n",
    "death_rate = 3/88\n",
    "# output the value of the variable death_rate\n",
    "death_rate"
   ]
  },
  {
   "cell_type": "markdown",
   "metadata": {},
   "source": [
    "Let's create more variables"
   ]
  },
  {
   "cell_type": "code",
   "execution_count": 2,
   "metadata": {},
   "outputs": [
    {
     "name": "stdout",
     "output_type": "stream",
     "text": [
      "29.333333333333336\n"
     ]
    },
    {
     "data": {
      "text/plain": [
       "29.333333333333332"
      ]
     },
     "execution_count": 2,
     "metadata": {},
     "output_type": "execute_result"
    }
   ],
   "source": [
    "# to get the people implied per recorded death we take the reciprocal\n",
    "people_per_death = 1/death_rate\n",
    "# output the new variable\n",
    "print(people_per_death)\n",
    "# overwrite the variable from a direct calculation\n",
    "people_per_death = 88/3\n",
    "people_per_death"
   ]
  },
  {
   "cell_type": "markdown",
   "metadata": {},
   "source": [
    "Note that there is only one output of the value of <code>people_per_death</code>. Outputs are only generated for\n",
    "the last statement in the code. To display at any point we need another mechanism. Below are just three ways to print out information. Please look up strings, print and string formatting for more information."
   ]
  },
  {
   "cell_type": "code",
   "execution_count": 3,
   "metadata": {},
   "outputs": [
    {
     "name": "stdout",
     "output_type": "stream",
     "text": [
      "The number of people in the population suggested by each death is  29.333333333333332\n",
      "The proportion of people in the population who die in a given year is 0.0341\n",
      "Given 13200 recorded deaths, John Graunt estimated the population to be 387200.0\n"
     ]
    }
   ],
   "source": [
    "print(\n",
    "    \"The number of people in the population suggested by each death is \",\n",
    "    people_per_death)\n",
    "some_output = \"The proportion of people in the population who die in a given year is %.4f\" % death_rate\n",
    "print(some_output)\n",
    "recorded_deaths = 13200\n",
    "estimated_population = 13200*people_per_death\n",
    "print(f\"Given {recorded_deaths} recorded deaths, John Graunt estimated the population to be {estimated_population}\")"
   ]
  },
  {
   "cell_type": "markdown",
   "metadata": {},
   "source": [
    "We have now created an <code>int</code> type variable <code>recorded_deaths</code>, a <code>string</code> variable <code>some_output</code> and a number of <code>float</code> type variables, e.g. <code>death_rate</code>. We do so by simply assigning these with the <code>=</code> operator. We do not have to state the type of the variable as in some languages."
   ]
  },
  {
   "cell_type": "markdown",
   "metadata": {},
   "source": [
    "## Exercises A\n",
    "\n",
    "Create some additional variables in the code cell below. Look at the questions at the end of (Ross, 2017, Chp. 1) for inspiration on what to create. Try creating an <code>int</code>, <code>float</code> and <code>string</code> type variable. What other [Python types](https://www.w3schools.com/python/python_datatypes.asp) do you know? Create some additional variables with other basic types too (don't worry about lists, tuples and dictionaries for now).\n",
    "\n",
    "Output your variables with the various approaches shown above. Can you format your <code>float</code> variables so that they only display 1 decimal place? Look at the python documentation [here](https://docs.python.org/3.6/library/string.html) or the tutorial [here](https://www.w3schools.com/python/ref_string_format.asp) to see if you can solve this problem yourself."
   ]
  },
  {
   "cell_type": "code",
   "execution_count": 4,
   "metadata": {},
   "outputs": [],
   "source": [
    "# to complete"
   ]
  },
  {
   "cell_type": "markdown",
   "metadata": {},
   "source": [
    "## Functions\n",
    "If we wanted to run this population estimate multiple times, it is good practice to construct a function to do it. For instance..."
   ]
  },
  {
   "cell_type": "code",
   "execution_count": 5,
   "metadata": {},
   "outputs": [],
   "source": [
    "def estimate_population(recorded_deaths, death_rate):\n",
    "    return recorded_deaths/death_rate"
   ]
  },
  {
   "cell_type": "markdown",
   "metadata": {},
   "source": [
    "We can now calculate the estimate for a number of scenarios..."
   ]
  },
  {
   "cell_type": "code",
   "execution_count": 6,
   "metadata": {},
   "outputs": [
    {
     "name": "stdout",
     "output_type": "stream",
     "text": [
      "estimate 1:  781866.6666666667\n",
      "estimate 2:  360000.0\n",
      "estimate 3:  714285.7142857142\n"
     ]
    }
   ],
   "source": [
    "print(\"estimate 1: \", estimate_population(23456, 0.03))\n",
    "print(\"estimate 2: \", estimate_population(18000, 0.05))\n",
    "print(\"estimate 3: \", estimate_population(50000, 0.07))\n"
   ]
  },
  {
   "cell_type": "markdown",
   "metadata": {},
   "source": [
    "To define a function we use the <code>def</code> keyword followed by the function name then the argument names in brackets followed by a colon. The following lines must be indented and this indicates that they belong to the function. Any indentation is allowed but <b>you are strongly advised to use 4 spaces (do not use tabs)</b>."
   ]
  },
  {
   "cell_type": "markdown",
   "metadata": {},
   "source": [
    "## Lists, Tuples and Numpy Arrays\n",
    "\n",
    "### Lists\n",
    "\n",
    "Lists can be used to store collections of items of any type."
   ]
  },
  {
   "cell_type": "code",
   "execution_count": 7,
   "metadata": {},
   "outputs": [
    {
     "name": "stdout",
     "output_type": "stream",
     "text": [
      "[1, 3, 5, 7, 9, 11] is an acceptable list\n",
      "['fish', 'and', 'chips'] is an acceptable list\n",
      "['One', 2, True, None, 3.4, ['A', 'list', 'within', 'a', 'list']] is an acceptable list\n"
     ]
    }
   ],
   "source": [
    "# This is an acceptable list\n",
    "x = [1, 3, 5,7,9,11]\n",
    "print(f\"{x} is an acceptable list\")\n",
    "# This is an acceptable list\n",
    "y = [\"fish\", \"and\", \"chips\"]\n",
    "print(f\"{y} is an acceptable list\")\n",
    "# This is an acceptable list\n",
    "z = [\"One\", 2, True, None, 3.4, [\"A\", \"list\", \"within\", \"a\", \"list\"]]\n",
    "print(f\"{z} is an acceptable list\")\n"
   ]
  },
  {
   "cell_type": "code",
   "execution_count": 8,
   "metadata": {},
   "outputs": [
    {
     "name": "stdout",
     "output_type": "stream",
     "text": [
      "x looks like this [1, 3, 5, 7, 9, 11]\n",
      "The element at index 1 of x is 3\n",
      "Now x looks like this [1, 247, 5, 7, 9, 11]\n",
      "And now the element at index 1 of x is 247\n",
      "x[0:2] looks like this [1, 247]\n",
      "x[2:] looks like this [5, 7, 9, 11]\n",
      "x[:4] looks like this [1, 247, 5, 7]\n",
      "x[4:1:-1] looks like this [9, 7, 5]\n",
      "x[::-1] looks like this [11, 9, 7, 5, 247, 1]\n"
     ]
    }
   ],
   "source": [
    "print(f\"x looks like this {x}\")\n",
    "index = 1\n",
    "element = x[index]\n",
    "print(f\"The element at index {index} of x is {element}\")\n",
    "# we can update x with\n",
    "x[index] = 247\n",
    "print(f\"Now x looks like this {x}\")\n",
    "element = x[index]\n",
    "print(f\"And now the element at index {index} of x is {element}\")\n",
    "\n",
    "# we can access multiple elements of a list at the same time with a slice\n",
    "print(f\"x[0:2] looks like this {x[0:2]}\")\n",
    "print(f\"x[2:] looks like this {x[2:]}\")\n",
    "print(f\"x[:4] looks like this {x[:4]}\")\n",
    "# even going backwards\n",
    "print(f\"x[4:1:-1] looks like this {x[4:1:-1]}\")\n",
    "print(f\"x[::-1] looks like this {x[::-1]}\")\n"
   ]
  },
  {
   "cell_type": "markdown",
   "metadata": {},
   "source": [
    "We  can access members of a list via their index to both read an write elements. We can also append elements to a list, extend a list by another and concatenate two lists."
   ]
  },
  {
   "cell_type": "code",
   "execution_count": 9,
   "metadata": {},
   "outputs": [
    {
     "name": "stdout",
     "output_type": "stream",
     "text": [
      "Now z looks like this ['One', 2, True, None, 3.4, ['A', 'list', 'within', 'a', 'list'], 'next']\n",
      "Now x looks like this [1, 247, 5, 7, 9, 11, 'One', 2, True, None, 3.4, ['A', 'list', 'within', 'a', 'list'], 'next']\n",
      "new_list looks like this ['fish', 'and', 'chips', 'are', 'delicious']\n"
     ]
    }
   ],
   "source": [
    "# append an element\n",
    "z.append(\"next\")\n",
    "print(f\"Now z looks like this {z}\")\n",
    "# extend a list\n",
    "x.extend(z)\n",
    "print(f\"Now x looks like this {x}\")\n",
    "\n",
    "# concatenate lists\n",
    "new_list = y + [\"are\", \"delicious\"]\n",
    "print(f\"new_list looks like this {new_list}\")"
   ]
  },
  {
   "cell_type": "markdown",
   "metadata": {},
   "source": [
    "### Tuples\n",
    "Tuples are like lists but cannot be modified.\n"
   ]
  },
  {
   "cell_type": "code",
   "execution_count": 10,
   "metadata": {},
   "outputs": [
    {
     "name": "stdout",
     "output_type": "stream",
     "text": [
      "(0, 2, 4, 'end') is an acceptable tuple\n",
      "w[1] is 2\n",
      "w[3] is end\n"
     ]
    }
   ],
   "source": [
    "w = (0,2,4,\"end\")\n",
    "print(f\"{w} is an acceptable tuple\")\n",
    "# we can access elements of w\n",
    "print(f\"w[1] is {w[1]}\")\n",
    "print(f\"w[3] is {w[3]}\")\n",
    "# but we cannot modify elements, append to or extend w."
   ]
  },
  {
   "cell_type": "markdown",
   "metadata": {},
   "source": [
    "If you want to modify a tuple you must convert to a list. You can convert it back later if need-be. "
   ]
  },
  {
   "cell_type": "code",
   "execution_count": 11,
   "metadata": {},
   "outputs": [
    {
     "name": "stdout",
     "output_type": "stream",
     "text": [
      "w looks like this (0, 2, 4, 'end')\n",
      "w_list looks like this [0, 2, 4, 'end']\n",
      "Now w_list looks like this ['start', 2, 4, 'end']\n",
      "Now w looks like this ('start', 2, 4, 'end')\n"
     ]
    }
   ],
   "source": [
    "print(f\"w looks like this {w}\")\n",
    "w_list = list(w)\n",
    "print(f\"w_list looks like this {w_list}\")\n",
    "w_list[0] = \"start\"\n",
    "print(f\"Now w_list looks like this {w_list}\")\n",
    "w = tuple(w_list)\n",
    "print(f\"Now w looks like this {w}\")\n",
    "\n"
   ]
  },
  {
   "cell_type": "markdown",
   "metadata": {},
   "source": [
    "### Numpy arrays\n",
    "\n",
    "Numpy is a library you will need to install before you can use it. We will be making much use of it in the module so I suggest you do so if you haven't already ([see here]{https://numpy.org/install/}).\n",
    "\n",
    "Numpy arrays come with a suite of extra functionality but are slightly more restrictive in their use.  "
   ]
  },
  {
   "cell_type": "code",
   "execution_count": 12,
   "metadata": {},
   "outputs": [
    {
     "name": "stdout",
     "output_type": "stream",
     "text": [
      "a looks like this [-1  6  8  9 31 47 53 72]\n",
      "a[2:] looks like this [ 8  9 31 47 53 72]\n",
      "a[[1,3,6]] looks like this [ 6  9 53]\n",
      "b looks like this [[ 1  2  3]\n",
      " [ 4  5  6]\n",
      " [ 7  8  9]\n",
      " [10 11 12]]\n",
      "b.transpose() looks like this [[ 1  4  7 10]\n",
      " [ 2  5  8 11]\n",
      " [ 3  6  9 12]]\n",
      "b.T looks like this [[ 1  4  7 10]\n",
      " [ 2  5  8 11]\n",
      " [ 3  6  9 12]]\n",
      "b[1:3,1:] looks like this [[4 5 6]\n",
      " [7 8 9]]\n"
     ]
    }
   ],
   "source": [
    "# we must somewhere in the file import numpy, e.g.\n",
    "#import numpy\n",
    "# Many prefer to do this with an alias \n",
    "import numpy as np\n",
    "\n",
    "a = np.array([-1,6,8,9,31, 47, 53, 72])\n",
    "print(f\"a looks like this {a}\")\n",
    "print(f\"a[2:] looks like this {a[2:]}\")\n",
    "# we can use a list of indices for a\n",
    "print(f\"a[[1,3,6]] looks like this {a[[1,3,6]]}\")\n",
    "\n",
    "# arrays can be multi-dimensional\n",
    "b = np.array([[1,2,3],[4,5,6],[7,8,9],[10,11,12]])\n",
    "print(f\"b looks like this {b}\")\n",
    "# and can be transposed like this:\n",
    "print(f\"b.transpose() looks like this {b.transpose()}\")\n",
    "# or like this\n",
    "print(f\"b.T looks like this {b.T}\")\n",
    "# we can access sub-arrays\n",
    "print(f\"b[1:3,1:] looks like this {b[1:3,:]}\")\n"
   ]
  },
  {
   "cell_type": "markdown",
   "metadata": {},
   "source": [
    "Don't worry if numpy arrays look a little complicated right now. We will be working with them a great deal, and you will get plenty of practice."
   ]
  },
  {
   "cell_type": "markdown",
   "metadata": {},
   "source": [
    "## Exercises B\n",
    "\n",
    "Look at the code block with the roulette function. Create your own function in the same block called <code>switch_first_and_last</code> which takes a list as input and swaps the elements in the first and last position. You can refer to the last position in two ways. Look at [this tutorial page](https://www.w3schools.com/python/python_lists.asp) on lists if you do not know how. Be careful, you must store one of the results in a temporary variable. before copying the other across.\n",
    "\n",
    "Now look at question 3 in (Ross, 2017, p. 12). Then complete the following:\n",
    "\n",
    "1. Encode each row of the table as it's own list.\n",
    "1. Calculate the change in percentage for males between 1999 and 2000.\n",
    "1. Can you calculate all changes in percentage from one year to the next for both males and females? Try converting your lists to Numpy arrays first.\n",
    "1. How would you use python to help answer Questions 3 (a) and (b)?"
   ]
  },
  {
   "cell_type": "code",
   "execution_count": 13,
   "metadata": {},
   "outputs": [],
   "source": [
    "# to complete\n"
   ]
  },
  {
   "cell_type": "markdown",
   "metadata": {},
   "source": [
    "## Control flow\n",
    "\n",
    "Control flow, if, if-else, while etc are available in python and you use these just as in other proceedural programming languages. The local scope of if-blocks etc must be indented. Nested blocks must be indented further to the right than the parent block. There is no need for brackets with if/while conditions, and we use elif for else-if. For instance:\n"
   ]
  },
  {
   "cell_type": "code",
   "execution_count": 14,
   "metadata": {},
   "outputs": [
    {
     "name": "stdout",
     "output_type": "stream",
     "text": [
      "True is always true\n",
      "When an if-test fails the else block will be executed.\n",
      "0 is coloured green\n",
      "1 is coloured red\n",
      "2 is coloured black\n"
     ]
    }
   ],
   "source": [
    "if True:\n",
    "    print(f\"{True} is always true\")\n",
    "    \n",
    "if 1 == 0:\n",
    "    print(\"This statement will not print\")\n",
    "else:\n",
    "    print(\"When an if-test fails the else block will be executed.\")\n",
    "    \n",
    "def roulette_colour(number):\n",
    "    if (number % 2) == 1:\n",
    "        return \"red\"\n",
    "    elif number != 0:\n",
    "        return \"black\"\n",
    "    else:\n",
    "        return \"green\"\n",
    "\n",
    "print(f\"{0} is coloured {roulette_colour(0)}\")\n",
    "print(f\"{1} is coloured {roulette_colour(1)}\")\n",
    "print(f\"{2} is coloured {roulette_colour(2)}\")"
   ]
  },
  {
   "cell_type": "markdown",
   "metadata": {},
   "source": [
    "For loops have a very compact syntax. One very common form is:\n",
    "\n",
    "<code>for {variable} in {collection}:</code>\n",
    "\n",
    "Another powerful form is:\n",
    "\n",
    "<code>for {variable} in {generator}:</code>\n",
    "\n",
    "A generator can be thought of a lazily evaluated collection (i.e. elements are only calculated/evaluated as needed). One very common generator is <code>range</code> see [here](https://wiki.python.org/moin/Generators) for more on generators and [here](https://docs.python.org/3/library/functions.html) for more on built in functions.\n",
    "    "
   ]
  },
  {
   "cell_type": "code",
   "execution_count": 15,
   "metadata": {},
   "outputs": [
    {
     "name": "stdout",
     "output_type": "stream",
     "text": [
      "0 is coloured green\n",
      "1 is coloured red\n",
      "2 is coloured black\n",
      "3 is coloured red\n",
      "4 is coloured black\n",
      "5 is coloured red\n",
      "6 is coloured black\n"
     ]
    }
   ],
   "source": [
    "for n in range(7):\n",
    "    print(f\"{n} is coloured {roulette_colour(n)}\")"
   ]
  },
  {
   "cell_type": "markdown",
   "metadata": {},
   "source": [
    "This gives us enough to start talking about the statistics. There are many more features to python and we will being to explore some of these through the module. However, I suggest you look at the Moodle page [guidance on python](https://moodle.ucl.ac.uk/mod/page/view.php?id=2011137) to familiarise yourself with these a little in advance."
   ]
  },
  {
   "cell_type": "markdown",
   "metadata": {},
   "source": [
    "# Final Exercises\n",
    "\n",
    "What follows contains some incomplete parts for you to fill in yourself.\n",
    "\n",
    "## John Graunt's \"Total Deaths in England\" (Ross, 2017, Tbl. 1.2)\n",
    "Let's encode Table 1.2 in python and explore the values. Two lists <code>years</code> and <code>burials</code> have been created for you corresponding to columns 0 and 1 of the table (counting from 0). Create a third variable <code>plague_deaths</code> based on the final column. Then iterate over the three lists printing out the year, burials and plague deaths for each row of the table."
   ]
  },
  {
   "cell_type": "code",
   "execution_count": null,
   "metadata": {},
   "outputs": [],
   "source": [
    "years = [1592, 1593, 1603, 1625, 1636]\n",
    "burials = [25886,17844,37294,51758,23359]\n",
    "\n",
    "# to complete"
   ]
  },
  {
   "cell_type": "markdown",
   "metadata": {},
   "source": [
    "### Calculating the average\n",
    "We would like to calculate the average (mean) of burials and plague deaths in one year for  the years recorded. Again there are a number of ways to do this, but you should use the Numpy <code>mean</code> function. In this module, you will be asked to investigate the documentation for unfamiliar functions so that you can learn how to use them. You can find documentation on <code>numpy.mean</code> [here](https://numpy.org/doc/stable/reference/generated/numpy.mean.html). You should always look at the standard documentation first, and in this case there are examples of usage. However, if you find the documentation difficult to read at first you can always perform a web-search on examples of usage.\n",
    "\n",
    "Calculate the mean number of burials and plague deaths recorded and print these out. Can you calculate the standard deviation too using another Numpy function?"
   ]
  },
  {
   "cell_type": "code",
   "execution_count": null,
   "metadata": {},
   "outputs": [],
   "source": [
    "# we've already imported numpy with short name np, so there is no need to \n",
    "# import this again here.\n",
    "\n",
    "# to complete"
   ]
  },
  {
   "cell_type": "markdown",
   "metadata": {},
   "source": [
    "### Significant figures\n",
    "\n",
    "Calculations like the above can lead to long strings of digits, many of which have very little impact on the result. For instance, the fractional values here are possibly less important than those left of the decimal point. More importantly, they can give us an unwarranted impression of the accuracy of some calculation (more later). It is common therefore, to limit the number of significant figures or set a number of decimal places for your output. Look at the documentation for string formatting numbers and then recreate the last exercise using 0 decimal places.\n",
    "\n",
    "[advanced] Do the same but producing 3 significant figures (use the g flag). Is this better?"
   ]
  },
  {
   "cell_type": "code",
   "execution_count": null,
   "metadata": {},
   "outputs": [],
   "source": [
    "# to complete"
   ]
  },
  {
   "cell_type": "markdown",
   "metadata": {},
   "source": [
    "## A very quick introduction to plotting\n",
    "We can plot data in a number of ways using the <code>matplotlib</code> library. You can find the documentation [here](https://matplotlib.org/). Make sure you have the library installed before you proceed.\n",
    "\n",
    "To use this library we must first import it. We are interested in the <code>pyplot</code> module. Then we can use the module's <code>plot</code> function to plot the data we have. See below for an example."
   ]
  },
  {
   "cell_type": "code",
   "execution_count": null,
   "metadata": {},
   "outputs": [],
   "source": [
    "import matplotlib.pyplot as plt\n",
    "\n",
    "plt.plot(years,burials)\n",
    "plt.plot(years, plague_deaths)\n"
   ]
  },
  {
   "cell_type": "markdown",
   "metadata": {},
   "source": [
    "Is this the best way of showing the data? We'll discuss this in more detail through the module, but for now your task is to label the axes and provide a legend. Investigate the documentation and other online sources to see how."
   ]
  },
  {
   "cell_type": "code",
   "execution_count": null,
   "metadata": {},
   "outputs": [],
   "source": [
    "# to complete\n",
    "# no need to import module again."
   ]
  },
  {
   "cell_type": "markdown",
   "metadata": {},
   "source": [
    "Look again at Exercise 3 from (Ross,2017)[Chp. 1] and the variables you created above. Can you create plots for this data too? Does this help answer the question?"
   ]
  },
  {
   "cell_type": "code",
   "execution_count": null,
   "metadata": {},
   "outputs": [],
   "source": [
    "# to complete"
   ]
  },
  {
   "cell_type": "markdown",
   "metadata": {},
   "source": [
    "## Graunt's Mortality Table (Ross, 2017, Tbl. 1.3)\n",
    "Here we are going to investigate Graunt's mortality table (Table 1.3) from the textbook. Let's encode the data before we start to explore it.\n",
    "We'll start by encoding the age boundaries between rows as a single numpy array (variable <code>age_boundaries</code>) and the deaths per row as another (variable <code>deaths</code>). Why is it better to encode the age boundaries first rather than anything else?\n",
    "\n",
    "Now create arrays <code>lower_boundaries</code> and <code>upper_boundaries</code> using the existing variables. What is the problem?"
   ]
  },
  {
   "cell_type": "code",
   "execution_count": null,
   "metadata": {},
   "outputs": [],
   "source": [
    "# no need to import numpy module again (here called np)\n",
    "age_boundaries = np.array([\n",
    "    0,6,16,26,36,46,56,66,76])\n",
    "deaths = np.array([36, 24, 15, 9, 6, 4, 3, 2, 1])\n",
    "print(f\"age_boundaries = {age_boundaries}\")\n",
    "print(f\"deaths = {deaths}\")\n",
    "\n",
    "# to complete"
   ]
  },
  {
   "cell_type": "markdown",
   "metadata": {},
   "source": [
    "What barriers are there to us performing an average age at death calculation?\n",
    "\n",
    "Instead, you are going to calculate values for which there aren't similar barriers. Use python and your knowledge of the data to calculate the following.\n",
    "\n",
    "  1. Given Graunt's analysis, how many people in each 100 die before their 16th birthday?\n",
    "  1. Given this analysis and 387200 births (Graunt's estimate of the population of London), how many of those people would die before their 16th birthday?\n",
    "  1. Based on these values, what proportion of each people die sometime between the age of 36 (inclusive) and 56 (exclusive) in Graunt's time?\n",
    "  1. Given all those still alive on their 26th birthday, what proportion go on to live to 56 or over?\n",
    "\n",
    "Print out these values with appropriate statements."
   ]
  },
  {
   "cell_type": "code",
   "execution_count": null,
   "metadata": {},
   "outputs": [],
   "source": [
    "# to complete"
   ]
  }
 ],
 "metadata": {
  "kernelspec": {
   "display_name": "Python 3",
   "language": "python",
   "name": "python3"
  },
  "language_info": {
   "codemirror_mode": {
    "name": "ipython",
    "version": 3
   },
   "file_extension": ".py",
   "mimetype": "text/x-python",
   "name": "python",
   "nbconvert_exporter": "python",
   "pygments_lexer": "ipython3",
   "version": "3.8.3"
  }
 },
 "nbformat": 4,
 "nbformat_minor": 4
}
